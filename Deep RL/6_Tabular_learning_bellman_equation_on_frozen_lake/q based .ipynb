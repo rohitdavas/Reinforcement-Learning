{
 "cells": [
  {
   "cell_type": "code",
   "execution_count": 1,
   "metadata": {
    "ExecuteTime": {
     "end_time": "2020-04-03T13:34:58.061044Z",
     "start_time": "2020-04-03T13:34:57.803874Z"
    }
   },
   "outputs": [],
   "source": [
    "''' environment'''\n",
    "import gym \n",
    "\n",
    "'''storage '''\n",
    "import collections\n",
    "\n",
    "''' writer '''\n",
    "from tensorboardX import SummaryWriter "
   ]
  },
  {
   "cell_type": "markdown",
   "metadata": {},
   "source": [
    "**Env**\\\n",
    "[frozen lake description](https://gym.openai.com/envs/FrozenLake-v0/)\n",
    "\n",
    "SFFF       (S: starting point, safe)\\\n",
    "FHFH       (F: frozen surface, safe)\\\n",
    "FFFH       (H: hole, fall to your doom)\\\n",
    "HFFG       (G: goal, where the frisbee is located)\\\n",
    "\n",
    "The episode ends when you reach the goal or fall in a hole. You receive a reward of 1 if you reach the goal, and zero otherwise. "
   ]
  },
  {
   "cell_type": "code",
   "execution_count": 5,
   "metadata": {
    "ExecuteTime": {
     "end_time": "2020-04-03T13:50:59.483364Z",
     "start_time": "2020-04-03T13:50:59.469300Z"
    },
    "code_folding": [
     13,
     61
    ]
   },
   "outputs": [],
   "source": [
    "Gamma = 0.9 \n",
    "\n",
    "class Agent():\n",
    "    \n",
    "    def __init__(self):\n",
    "        self.env = gym.make('FrozenLake-v0')\n",
    "        self.state = self.env.reset()\n",
    "        self.rewards = collections.defaultdict(float) \n",
    "        self.transists = collections.defaultdict(collections.Counter)\n",
    "        self.values = collections.defaultdict(float) \n",
    "        \n",
    "        \n",
    "    ## collect initial data \n",
    "    def play_n_random(self, count):\n",
    "        for _ in range(count):\n",
    "            # run on env \n",
    "            #print(self.env.render())\n",
    "            action = self.env.action_space.sample()\n",
    "            next_state, reward, is_done, _ = self.env.step(action)\n",
    "            \n",
    "            # populate the matrices\n",
    "            self.rewards[(self.state, action, next_state)] = reward\n",
    "            self.transists[(self.state, action)][next_state] += 1 \n",
    "            \n",
    "            if is_done:\n",
    "                self.state = self.env.reset()\n",
    "                break \n",
    "            self.state = next_state  \n",
    "            \n",
    "    def value_iteration(self):\n",
    "        for state in range(self.env.observation_space.n): \n",
    "            for action in range(self.env.action_space.n):\n",
    "                self.values[(state, action)] = self.calculate_action_value(state, action)\n",
    "            \n",
    "\n",
    "    def calculate_action_value(self, state, action):\n",
    "        target_counts = self.transists[(state, action)]\n",
    "        total = sum(target_counts.values())\n",
    "        \n",
    "        action_value = 0.0 \n",
    "        for nxt_state, count in target_counts.items():\n",
    "            reward = self.rewards[(state,action, nxt_state)]\n",
    "            \n",
    "            best_action = self.select_action(nxt_state)\n",
    "            \n",
    "            value = self.values[(nxt_state, best_action)]\n",
    "            action_value += (count/total)*(reward + Gamma*value)\n",
    "            \n",
    "        return action_value \n",
    "    \n",
    "    def select_action(self, state):\n",
    "        best_action, best_value = None, None \n",
    "        \n",
    "        for action in range(self.env.action_space.n):\n",
    "            action_value = self.values[(state, action)]\n",
    "            \n",
    "            if best_value is None or best_value < action_value:\n",
    "                best_value = action_value \n",
    "                best_action = action \n",
    "        return best_action  \n",
    "    \n",
    "    def play_episode(self, env, render = False):\n",
    "        total_reward = 0.0 \n",
    "        state = env.reset()\n",
    "        \n",
    "        while True:\n",
    "            if render:\n",
    "                env.render()\n",
    "                \n",
    "            action = self.select_action(state)\n",
    "            new_state, reward, is_done, _ = env.step(action)\n",
    "            \n",
    "            self.rewards[(state, action, new_state)] = reward \n",
    "            self.transists[(state, action)][new_state] += 1 \n",
    "            total_reward += reward \n",
    "            \n",
    "            if is_done:\n",
    "                break \n",
    "            state = new_state \n",
    "        return total_reward  "
   ]
  },
  {
   "cell_type": "code",
   "execution_count": 3,
   "metadata": {
    "ExecuteTime": {
     "end_time": "2020-04-03T13:49:53.439990Z",
     "start_time": "2020-04-03T13:49:53.158966Z"
    },
    "scrolled": false
   },
   "outputs": [
    {
     "name": "stdout",
     "output_type": "stream",
     "text": [
      "defaultdict(<class 'float'>, {(0, 1, 0): 0.0, (0, 1, 4): 0.0, (4, 3, 4): 0.0, (4, 2, 0): 0.0, (0, 0, 0): 0.0, (0, 1, 1): 0.0, (1, 2, 1): 0.0, (1, 2, 2): 0.0, (2, 3, 3): 0.0, (3, 3, 3): 0.0, (3, 0, 3): 0.0, (3, 1, 7): 0.0})\n",
      "\n",
      "defaultdict(<class 'collections.Counter'>, {(0, 1): Counter({0: 2, 4: 1, 1: 1}), (4, 3): Counter({4: 1}), (4, 2): Counter({0: 1}), (0, 0): Counter({0: 3}), (1, 2): Counter({1: 1, 2: 1}), (2, 3): Counter({3: 1}), (3, 3): Counter({3: 1}), (3, 0): Counter({3: 1}), (3, 1): Counter({7: 1})})\n",
      "\n",
      "defaultdict(<class 'float'>, {})\n",
      "\n",
      "0\n",
      "\n",
      "\n",
      "\u001b[41mS\u001b[0mFFF\n",
      "FHFH\n",
      "FFFH\n",
      "HFFG\n"
     ]
    }
   ],
   "source": [
    "agent = Agent()\n",
    "agent.play_n_random(100)\n",
    "\n",
    "print(agent.rewards)\n",
    "print()\n",
    "print(agent.transists)\n",
    "print()\n",
    "print(agent.values)\n",
    "print()\n",
    "print(agent.state)\n",
    "print()\n",
    "agent.env.render()"
   ]
  },
  {
   "cell_type": "code",
   "execution_count": 10,
   "metadata": {
    "ExecuteTime": {
     "end_time": "2020-04-03T13:51:43.236979Z",
     "start_time": "2020-04-03T13:51:42.537227Z"
    },
    "scrolled": true
   },
   "outputs": [
    {
     "name": "stdout",
     "output_type": "stream",
     "text": [
      "Best reward updated 0.000 -> 0.100\n",
      "Best reward updated 0.100 -> 0.400\n",
      "Best reward updated 0.400 -> 0.500\n",
      "Best reward updated 0.500 -> 0.600\n",
      "Best reward updated 0.600 -> 0.800\n",
      "Best reward updated 0.800 -> 1.000\n",
      "Solved in 186 iterations!\n",
      "\n",
      "\u001b[41mS\u001b[0mFFF\n",
      "FHFH\n",
      "FFFH\n",
      "HFFG\n",
      "  (Left)\n",
      "\u001b[41mS\u001b[0mFFF\n",
      "FHFH\n",
      "FFFH\n",
      "HFFG\n",
      "  (Left)\n",
      "\u001b[41mS\u001b[0mFFF\n",
      "FHFH\n",
      "FFFH\n",
      "HFFG\n",
      "  (Left)\n",
      "SFFF\n",
      "\u001b[41mF\u001b[0mHFH\n",
      "FFFH\n",
      "HFFG\n",
      "  (Left)\n",
      "\u001b[41mS\u001b[0mFFF\n",
      "FHFH\n",
      "FFFH\n",
      "HFFG\n",
      "  (Left)\n",
      "\u001b[41mS\u001b[0mFFF\n",
      "FHFH\n",
      "FFFH\n",
      "HFFG\n",
      "  (Left)\n",
      "\u001b[41mS\u001b[0mFFF\n",
      "FHFH\n",
      "FFFH\n",
      "HFFG\n",
      "  (Left)\n",
      "\u001b[41mS\u001b[0mFFF\n",
      "FHFH\n",
      "FFFH\n",
      "HFFG\n",
      "  (Left)\n",
      "SFFF\n",
      "\u001b[41mF\u001b[0mHFH\n",
      "FFFH\n",
      "HFFG\n",
      "  (Left)\n",
      "SFFF\n",
      "FHFH\n",
      "\u001b[41mF\u001b[0mFFH\n",
      "HFFG\n",
      "  (Up)\n",
      "SFFF\n",
      "FHFH\n",
      "F\u001b[41mF\u001b[0mFH\n",
      "HFFG\n",
      "  (Down)\n",
      "SFFF\n",
      "FHFH\n",
      "FF\u001b[41mF\u001b[0mH\n",
      "HFFG\n",
      "  (Down)\n",
      "SFFF\n",
      "FHFH\n",
      "FFFH\n",
      "HF\u001b[41mF\u001b[0mG\n"
     ]
    }
   ],
   "source": [
    "agent = Agent()\n",
    "writer = SummaryWriter('valueBased')\n",
    "test_env = gym.make('FrozenLake-v0')\n",
    "iter_no = 0 \n",
    "best_reward = 0.0 \n",
    "    \n",
    "while True:\n",
    "    iter_no += 1 \n",
    "    agent.play_n_random(10000)\n",
    "    agent.value_iteration()\n",
    "    \n",
    "    reward = 0.0 \n",
    "    test_episodes = 10\n",
    "    for _ in range(test_episodes):\n",
    "        reward += agent.play_episode(test_env, render = False)\n",
    "    \n",
    "    reward /= test_episodes \n",
    "    writer.add_scalar(\"reward\", reward, iter_no)\n",
    "    \n",
    "    if reward > best_reward:\n",
    "        print(\"Best reward updated %.3f -> %.3f\" % (best_reward, reward))\n",
    "        best_reward = reward\n",
    "    if reward > 0.80:\n",
    "        print(\"Solved in %d iterations!\" % iter_no)\n",
    "        break\n",
    "        \n",
    "agent.play_episode(test_env, render = True) \n",
    "writer.close()"
   ]
  },
  {
   "cell_type": "code",
   "execution_count": 45,
   "metadata": {
    "ExecuteTime": {
     "end_time": "2020-04-03T14:09:54.676745Z",
     "start_time": "2020-04-03T14:09:54.656954Z"
    },
    "scrolled": false
   },
   "outputs": [
    {
     "name": "stdout",
     "output_type": "stream",
     "text": [
      "**********\n",
      " \u001b[41mS\u001b[0mFFF FHFH FFFH HFFG \t  (Left) SFFF \u001b[41mF\u001b[0mHFH FFFH HFFG \t  (Left) SFFF \u001b[41mF\u001b[0mHFH FFFH HFFG \t  (Left) SFFF FHFH \u001b[41mF\u001b[0mFFH HFFG \t  (Up) SFFF FHFH \u001b[41mF\u001b[0mFFH HFFG \t  (Up) SFFF FHFH F\u001b[41mF\u001b[0mFH HFFG \t  (Down) SFFF FHFH \u001b[41mF\u001b[0mFFH HFFG \t  (Up) SFFF FHFH F\u001b[41mF\u001b[0mFH HFFG \t  (Down) SFFF FHFH FF\u001b[41mF\u001b[0mH HFFG \t\n",
      "not solved: trying again \n",
      "**********\n",
      "**********\n",
      " \u001b[41mS\u001b[0mFFF FHFH FFFH HFFG \t  (Left) SFFF \u001b[41mF\u001b[0mHFH FFFH HFFG \t  (Left) SFFF \u001b[41mF\u001b[0mHFH FFFH HFFG \t  (Left) SFFF FHFH \u001b[41mF\u001b[0mFFH HFFG \t  (Up) SFFF FHFH \u001b[41mF\u001b[0mFFH HFFG \t  (Up) SFFF FHFH \u001b[41mF\u001b[0mFFH HFFG \t  (Up) SFFF FHFH F\u001b[41mF\u001b[0mFH HFFG \t  (Down) SFFF FHFH FFFH H\u001b[41mF\u001b[0mFG \t  (Right) SFFF FHFH F\u001b[41mF\u001b[0mFH HFFG \t  (Down) SFFF FHFH FF\u001b[41mF\u001b[0mH HFFG \t\n",
      "not solved: trying again \n",
      "**********\n",
      "**********\n",
      "successfully played in steps  85\n",
      " \u001b[41mS\u001b[0mFFF FHFH FFFH HFFG \t=>  (Left) SFFF \u001b[41mF\u001b[0mHFH FFFH HFFG \t=>  (Left) \u001b[41mS\u001b[0mFFF FHFH FFFH HFFG \t=>  (Left) SFFF \u001b[41mF\u001b[0mHFH FFFH HFFG \t=>  (Left) \u001b[41mS\u001b[0mFFF FHFH FFFH HFFG \t=>  (Left) \u001b[41mS\u001b[0mFFF FHFH FFFH HFFG \t=>  (Left) SFFF \u001b[41mF\u001b[0mHFH FFFH HFFG \t=>  (Left) \u001b[41mS\u001b[0mFFF FHFH FFFH HFFG \t=>  (Left) \u001b[41mS\u001b[0mFFF FHFH FFFH HFFG \t=>  (Left) \u001b[41mS\u001b[0mFFF FHFH FFFH HFFG \t=>  (Left) \u001b[41mS\u001b[0mFFF FHFH FFFH HFFG \t=>  (Left) \u001b[41mS\u001b[0mFFF FHFH FFFH HFFG \t=>  (Left) \u001b[41mS\u001b[0mFFF FHFH FFFH HFFG \t=>  (Left) SFFF \u001b[41mF\u001b[0mHFH FFFH HFFG \t=>  (Left) \u001b[41mS\u001b[0mFFF FHFH FFFH HFFG \t=>  (Left) \u001b[41mS\u001b[0mFFF FHFH FFFH HFFG \t=>  (Left) \u001b[41mS\u001b[0mFFF FHFH FFFH HFFG \t=>  (Left) \u001b[41mS\u001b[0mFFF FHFH FFFH HFFG \t=>  (Left) \u001b[41mS\u001b[0mFFF FHFH FFFH HFFG \t=>  (Left) SFFF \u001b[41mF\u001b[0mHFH FFFH HFFG \t=>  (Left) SFFF FHFH \u001b[41mF\u001b[0mFFH HFFG \t=>  (Up) SFFF \u001b[41mF\u001b[0mHFH FFFH HFFG \t=>  (Left) \u001b[41mS\u001b[0mFFF FHFH FFFH HFFG \t=>  (Left) \u001b[41mS\u001b[0mFFF FHFH FFFH HFFG \t=>  (Left) \u001b[41mS\u001b[0mFFF FHFH FFFH HFFG \t=>  (Left) SFFF \u001b[41mF\u001b[0mHFH FFFH HFFG \t=>  (Left) \u001b[41mS\u001b[0mFFF FHFH FFFH HFFG \t=>  (Left) \u001b[41mS\u001b[0mFFF FHFH FFFH HFFG \t=>  (Left) SFFF \u001b[41mF\u001b[0mHFH FFFH HFFG \t=>  (Left) SFFF FHFH \u001b[41mF\u001b[0mFFH HFFG \t=>  (Up) SFFF FHFH \u001b[41mF\u001b[0mFFH HFFG \t=>  (Up) SFFF \u001b[41mF\u001b[0mHFH FFFH HFFG \t=>  (Left) SFFF FHFH \u001b[41mF\u001b[0mFFH HFFG \t=>  (Up) SFFF \u001b[41mF\u001b[0mHFH FFFH HFFG \t=>  (Left) SFFF FHFH \u001b[41mF\u001b[0mFFH HFFG \t=>  (Up) SFFF \u001b[41mF\u001b[0mHFH FFFH HFFG \t=>  (Left) SFFF \u001b[41mF\u001b[0mHFH FFFH HFFG \t=>  (Left) \u001b[41mS\u001b[0mFFF FHFH FFFH HFFG \t=>  (Left) \u001b[41mS\u001b[0mFFF FHFH FFFH HFFG \t=>  (Left) \u001b[41mS\u001b[0mFFF FHFH FFFH HFFG \t=>  (Left) \u001b[41mS\u001b[0mFFF FHFH FFFH HFFG \t=>  (Left) \u001b[41mS\u001b[0mFFF FHFH FFFH HFFG \t=>  (Left) \u001b[41mS\u001b[0mFFF FHFH FFFH HFFG \t=>  (Left) \u001b[41mS\u001b[0mFFF FHFH FFFH HFFG \t=>  (Left) \u001b[41mS\u001b[0mFFF FHFH FFFH HFFG \t=>  (Left) \u001b[41mS\u001b[0mFFF FHFH FFFH HFFG \t=>  (Left) \u001b[41mS\u001b[0mFFF FHFH FFFH HFFG \t=>  (Left) \u001b[41mS\u001b[0mFFF FHFH FFFH HFFG \t=>  (Left) SFFF \u001b[41mF\u001b[0mHFH FFFH HFFG \t=>  (Left) SFFF FHFH \u001b[41mF\u001b[0mFFH HFFG \t=>  (Up) SFFF \u001b[41mF\u001b[0mHFH FFFH HFFG \t=>  (Left) \u001b[41mS\u001b[0mFFF FHFH FFFH HFFG \t=>  (Left) \u001b[41mS\u001b[0mFFF FHFH FFFH HFFG \t=>  (Left) \u001b[41mS\u001b[0mFFF FHFH FFFH HFFG \t=>  (Left) \u001b[41mS\u001b[0mFFF FHFH FFFH HFFG \t=>  (Left) \u001b[41mS\u001b[0mFFF FHFH FFFH HFFG \t=>  (Left) \u001b[41mS\u001b[0mFFF FHFH FFFH HFFG \t=>  (Left) SFFF \u001b[41mF\u001b[0mHFH FFFH HFFG \t=>  (Left) SFFF FHFH \u001b[41mF\u001b[0mFFH HFFG \t=>  (Up) SFFF FHFH \u001b[41mF\u001b[0mFFH HFFG \t=>  (Up) SFFF FHFH \u001b[41mF\u001b[0mFFH HFFG \t=>  (Up) SFFF FHFH F\u001b[41mF\u001b[0mFH HFFG \t=>  (Down) SFFF FHFH \u001b[41mF\u001b[0mFFH HFFG \t=>  (Up) SFFF FHFH \u001b[41mF\u001b[0mFFH HFFG \t=>  (Up) SFFF FHFH F\u001b[41mF\u001b[0mFH HFFG \t=>  (Down) SFFF FHFH \u001b[41mF\u001b[0mFFH HFFG \t=>  (Up) SFFF FHFH F\u001b[41mF\u001b[0mFH HFFG \t=>  (Down) SFFF FHFH FFFH H\u001b[41mF\u001b[0mFG \t=>  (Right) SFFF FHFH F\u001b[41mF\u001b[0mFH HFFG \t=>  (Down) SFFF FHFH FFFH H\u001b[41mF\u001b[0mFG \t=>  (Right) SFFF FHFH F\u001b[41mF\u001b[0mFH HFFG \t=>  (Down) SFFF FHFH FFFH H\u001b[41mF\u001b[0mFG \t=>  (Right) SFFF FHFH FFFH HF\u001b[41mF\u001b[0mG \t=>  (Down) SFFF FHFH FFFH H\u001b[41mF\u001b[0mFG \t=>  (Right) SFFF FHFH F\u001b[41mF\u001b[0mFH HFFG \t=>  (Down) SFFF FHFH FF\u001b[41mF\u001b[0mH HFFG \t=>  (Down) SFFF FHFH FFFH HF\u001b[41mF\u001b[0mG \t=>  (Down) SFFF FHFH FFFH H\u001b[41mF\u001b[0mFG \t=>  (Right) SFFF FHFH FFFH HF\u001b[41mF\u001b[0mG \t=>  (Down) SFFF FHFH FFFH HF\u001b[41mF\u001b[0mG \t=>  (Down) SFFF FHFH FFFH H\u001b[41mF\u001b[0mFG \t=>  (Right) SFFF FHFH FFFH H\u001b[41mF\u001b[0mFG \t=>  (Right) SFFF FHFH FFFH H\u001b[41mF\u001b[0mFG \t=>  (Right) SFFF FHFH FFFH H\u001b[41mF\u001b[0mFG \t=>  (Right) SFFF FHFH FFFH HF\u001b[41mF\u001b[0mG \t=>  (Down) SFFF FHFH FFFH HFF\u001b[41mG\u001b[0m \t=>\n",
      "**********\n",
      "reward  1.0\n"
     ]
    }
   ],
   "source": [
    "from __future__ import print_function \n",
    "\n",
    "def play_s(agent, env):\n",
    "    state = env.reset()\n",
    "    render_list = []\n",
    "    steps = 0\n",
    "    while True:\n",
    "        render_list.append(env.render(\"ansi\"))\n",
    "        \n",
    "        action = agent.select_action(state)\n",
    "        next_state, reward, is_done, _ = env.step(action)\n",
    "        steps += 1 \n",
    "        if reward == 1:\n",
    "            print(\"*\"*10, end= \"\\n\")\n",
    "            render_list.append(env.render(\"ansi\"))\n",
    "            print(\"successfully played in steps \",steps)\n",
    "            for t in render_list:\n",
    "                print(t.replace(\"\\n\", \" \"), end = \"\\t=>\")\n",
    "            print()\n",
    "            env.reset()\n",
    "            print(\"*\"*10, end = \"\\n\")\n",
    "            break \n",
    "            \n",
    "        if is_done and reward != 1:\n",
    "            print(\"*\"*10, end = \"\\n\")\n",
    "            for t in render_list:\n",
    "                print(t.replace(\"\\n\", \" \"), end = \"\\t\") \n",
    "            print(\"\\nnot solved: trying again \")\n",
    "            print(\"*\"*10, end = \"\\n\")\n",
    "            steps = 0\n",
    "            state = env.reset() \n",
    "            render_list.clear()\n",
    "            \n",
    "        state = next_state \n",
    "        \n",
    "    return reward \n",
    "\n",
    "reward = play_s(agent, test_env)\n",
    "print(\"reward \", reward)"
   ]
  },
  {
   "cell_type": "code",
   "execution_count": 35,
   "metadata": {
    "ExecuteTime": {
     "end_time": "2020-04-03T14:04:26.750730Z",
     "start_time": "2020-04-03T14:04:26.747906Z"
    }
   },
   "outputs": [],
   "source": [
    "a = test_env.render(\"ansi\")\n",
    "b = test_env.render(\"ansi\")\n",
    "\n",
    "A = [a, b]"
   ]
  },
  {
   "cell_type": "code",
   "execution_count": 24,
   "metadata": {
    "ExecuteTime": {
     "end_time": "2020-04-03T14:00:47.438766Z",
     "start_time": "2020-04-03T14:00:47.436375Z"
    }
   },
   "outputs": [],
   "source": [
    "from __future__ import print_function"
   ]
  },
  {
   "cell_type": "code",
   "execution_count": 37,
   "metadata": {
    "ExecuteTime": {
     "end_time": "2020-04-03T14:04:37.061299Z",
     "start_time": "2020-04-03T14:04:37.049731Z"
    }
   },
   "outputs": [
    {
     "name": "stdout",
     "output_type": "stream",
     "text": [
      " \u001b[41mS\u001b[0mFFF FHFH FFFH HFFG  \t \u001b[41mS\u001b[0mFFF FHFH FFFH HFFG  \t"
     ]
    }
   ],
   "source": [
    "for t in A:\n",
    "    print(t.replace(\"\\n\", \" \"), end = \" \\t\")"
   ]
  },
  {
   "cell_type": "code",
   "execution_count": 33,
   "metadata": {
    "ExecuteTime": {
     "end_time": "2020-04-03T14:03:28.052083Z",
     "start_time": "2020-04-03T14:03:28.044402Z"
    }
   },
   "outputs": [
    {
     "name": "stdout",
     "output_type": "stream",
     "text": [
      "  (Down)\n",
      "SFFF\n",
      "FHFH\n",
      "FFFH\n",
      "HFF\u001b[41mG\u001b[0m\n"
     ]
    }
   ],
   "source": [
    "test_env.render()"
   ]
  },
  {
   "cell_type": "code",
   "execution_count": null,
   "metadata": {},
   "outputs": [],
   "source": []
  }
 ],
 "metadata": {
  "hide_input": false,
  "kernelspec": {
   "display_name": "Python 3",
   "language": "python",
   "name": "python3"
  },
  "language_info": {
   "codemirror_mode": {
    "name": "ipython",
    "version": 3
   },
   "file_extension": ".py",
   "mimetype": "text/x-python",
   "name": "python",
   "nbconvert_exporter": "python",
   "pygments_lexer": "ipython3",
   "version": "3.7.6"
  },
  "toc": {
   "base_numbering": 1,
   "nav_menu": {},
   "number_sections": true,
   "sideBar": true,
   "skip_h1_title": false,
   "title_cell": "Table of Contents",
   "title_sidebar": "Contents",
   "toc_cell": false,
   "toc_position": {},
   "toc_section_display": true,
   "toc_window_display": false
  },
  "varInspector": {
   "cols": {
    "lenName": 16,
    "lenType": 16,
    "lenVar": 40
   },
   "kernels_config": {
    "python": {
     "delete_cmd_postfix": "",
     "delete_cmd_prefix": "del ",
     "library": "var_list.py",
     "varRefreshCmd": "print(var_dic_list())"
    },
    "r": {
     "delete_cmd_postfix": ") ",
     "delete_cmd_prefix": "rm(",
     "library": "var_list.r",
     "varRefreshCmd": "cat(var_dic_list()) "
    }
   },
   "types_to_exclude": [
    "module",
    "function",
    "builtin_function_or_method",
    "instance",
    "_Feature"
   ],
   "window_display": false
  }
 },
 "nbformat": 4,
 "nbformat_minor": 4
}
