{
 "cells": [
  {
   "cell_type": "code",
   "execution_count": 1,
   "metadata": {
    "ExecuteTime": {
     "end_time": "2020-02-22T10:25:29.990085Z",
     "start_time": "2020-02-22T10:25:29.987318Z"
    }
   },
   "outputs": [],
   "source": [
    "import random"
   ]
  },
  {
   "cell_type": "code",
   "execution_count": 29,
   "metadata": {
    "ExecuteTime": {
     "end_time": "2020-02-22T10:36:09.416575Z",
     "start_time": "2020-02-22T10:36:09.410984Z"
    },
    "code_folding": [
     4,
     7,
     10,
     13,
     16,
     23
    ],
    "run_control": {
     "marked": false
    }
   },
   "outputs": [],
   "source": [
    "'''environment '''\n",
    "\n",
    "\n",
    "class Environment:\n",
    "    def __init__(self):\n",
    "        self.steps_left = 20\n",
    "\n",
    "    def get_observations(self):\n",
    "        return [0.0, 0.0, 0.0]\n",
    "\n",
    "    def get_actions(self):\n",
    "        return [0, 1]\n",
    "\n",
    "    def is_done(self):\n",
    "        return self.steps_left == 0 \n",
    "\n",
    "    def action(self, action):\n",
    "        if self.is_done():\n",
    "            raise Exception(\"game is over\")\n",
    "        \n",
    "        if action == 0:\n",
    "            self.steps_left -= 1\n",
    "            reward = -1\n",
    "        else:\n",
    "            self.steps_left -= 1\n",
    "            reward = 1 \n",
    "        return reward "
   ]
  },
  {
   "cell_type": "code",
   "execution_count": 30,
   "metadata": {
    "ExecuteTime": {
     "end_time": "2020-02-22T10:36:11.096112Z",
     "start_time": "2020-02-22T10:36:11.092312Z"
    },
    "code_folding": [
     4,
     7
    ],
    "run_control": {
     "marked": true
    }
   },
   "outputs": [],
   "source": [
    "'''agent'''\n",
    "\n",
    "\n",
    "class Agent:\n",
    "    def __init__(self):\n",
    "        self.total_reward = 0\n",
    "        \n",
    "    def step(self, env):\n",
    "        current_obs = env.get_observations()\n",
    "        actions = env.get_actions()\n",
    "        reward = env.action(random.choice(actions))\n",
    "        \n",
    "        self.total_reward += reward "
   ]
  },
  {
   "cell_type": "code",
   "execution_count": 37,
   "metadata": {
    "ExecuteTime": {
     "end_time": "2020-02-22T10:36:25.749998Z",
     "start_time": "2020-02-22T10:36:25.744088Z"
    }
   },
   "outputs": [
    {
     "name": "stdout",
     "output_type": "stream",
     "text": [
      "game is over\n",
      "total reward:  -2\n"
     ]
    }
   ],
   "source": [
    "env = Environment()\n",
    "agent = Agent()\n",
    "\n",
    "while not env.is_done():\n",
    "    agent.step(env)\n",
    "    \n",
    "print(\"game is over\")\n",
    "print(\"total reward: \", agent.total_reward)\n",
    "\n",
    "del env\n",
    "del agent"
   ]
  },
  {
   "cell_type": "code",
   "execution_count": null,
   "metadata": {},
   "outputs": [],
   "source": []
  },
  {
   "cell_type": "code",
   "execution_count": null,
   "metadata": {},
   "outputs": [],
   "source": []
  }
 ],
 "metadata": {
  "hide_input": false,
  "kernelspec": {
   "display_name": "Python 3",
   "language": "python",
   "name": "python3"
  },
  "language_info": {
   "codemirror_mode": {
    "name": "ipython",
    "version": 3
   },
   "file_extension": ".py",
   "mimetype": "text/x-python",
   "name": "python",
   "nbconvert_exporter": "python",
   "pygments_lexer": "ipython3",
   "version": "3.7.6"
  },
  "toc": {
   "base_numbering": 1,
   "nav_menu": {},
   "number_sections": true,
   "sideBar": true,
   "skip_h1_title": false,
   "title_cell": "Table of Contents",
   "title_sidebar": "Contents",
   "toc_cell": false,
   "toc_position": {},
   "toc_section_display": true,
   "toc_window_display": true
  }
 },
 "nbformat": 4,
 "nbformat_minor": 4
}
