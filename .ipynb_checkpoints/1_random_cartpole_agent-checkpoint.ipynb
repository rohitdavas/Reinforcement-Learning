{
 "cells": [
  {
   "cell_type": "code",
   "execution_count": 13,
   "metadata": {
    "ExecuteTime": {
     "end_time": "2020-02-22T12:02:20.452009Z",
     "start_time": "2020-02-22T12:02:20.448892Z"
    }
   },
   "outputs": [],
   "source": [
    "import gym\n",
    "import random\n",
    "import numpy as np"
   ]
  },
  {
   "cell_type": "code",
   "execution_count": 3,
   "metadata": {
    "ExecuteTime": {
     "end_time": "2020-02-22T11:52:14.714703Z",
     "start_time": "2020-02-22T11:52:14.692616Z"
    }
   },
   "outputs": [],
   "source": [
    "'''create env'''\n",
    "\n",
    "env = gym.make('CartPole-v0')"
   ]
  },
  {
   "cell_type": "code",
   "execution_count": 31,
   "metadata": {
    "ExecuteTime": {
     "end_time": "2020-02-22T12:09:57.510681Z",
     "start_time": "2020-02-22T12:09:57.450055Z"
    },
    "code_folding": [
     14
    ]
   },
   "outputs": [
    {
     "name": "stdout",
     "output_type": "stream",
     "text": [
      "\n",
      "ended with [19, 13, 13, 31, 27, 16, 28, 89, 33, 15, 10, 22, 28, 14, 11, 14, 37, 15, 17, 15, 26, 18, 15, 55, 22, 17, 23, 28, 59, 16, 29, 17, 40, 33, 19, 15, 22, 24, 25, 9, 23, 17, 16, 37, 28, 14, 17, 18, 42, 33, 25, 14, 26, 19, 11, 13, 23, 32, 15, 22, 11, 105, 31, 18, 16, 32, 25, 17, 10, 11, 13, 10, 14, 19, 21, 14, 15, 12, 14, 81, 15, 19, 16, 16, 16, 20, 18, 27, 18, 27, 14, 17, 34, 15, 15, 14, 35, 13, 26, 25] timesteps with\n",
      "\n",
      "total reward of [19.0, 13.0, 13.0, 31.0, 27.0, 16.0, 28.0, 89.0, 33.0, 15.0, 10.0, 22.0, 28.0, 14.0, 11.0, 14.0, 37.0, 15.0, 17.0, 15.0, 26.0, 18.0, 15.0, 55.0, 22.0, 17.0, 23.0, 28.0, 59.0, 16.0, 29.0, 17.0, 40.0, 33.0, 19.0, 15.0, 22.0, 24.0, 25.0, 9.0, 23.0, 17.0, 16.0, 37.0, 28.0, 14.0, 17.0, 18.0, 42.0, 33.0, 25.0, 14.0, 26.0, 19.0, 11.0, 13.0, 23.0, 32.0, 15.0, 22.0, 11.0, 105.0, 31.0, 18.0, 16.0, 32.0, 25.0, 17.0, 10.0, 11.0, 13.0, 10.0, 14.0, 19.0, 21.0, 14.0, 15.0, 12.0, 14.0, 81.0, 15.0, 19.0, 16.0, 16.0, 16.0, 20.0, 18.0, 27.0, 18.0, 27.0, 14.0, 17.0, 34.0, 15.0, 15.0, 14.0, 35.0, 13.0, 26.0, 25.0]\n",
      "\n",
      " average reward:  23.13\n",
      "\n",
      " average timesteps:  23.13\n"
     ]
    }
   ],
   "source": [
    "''' initialise'''\n",
    "\n",
    "episodes = 100\n",
    "each_episode_reward = []\n",
    "each_episode_steps = []\n",
    "\n",
    "for episode in range(episodes):\n",
    "    '''perform actions'''\n",
    "    total_reward = 0\n",
    "    total_steps = 0\n",
    "\n",
    "    obs = env.reset()\n",
    "    #print(\"initial obs \", obs)\n",
    "\n",
    "    while True:\n",
    "        action = env.action_space.sample()\n",
    "        obs, reward, done, _ = env.step(action)\n",
    "\n",
    "        total_reward += reward\n",
    "        total_steps += 1\n",
    "\n",
    "        if done:\n",
    "            break\n",
    "\n",
    "    each_episode_reward.append(total_reward)\n",
    "    each_episode_steps.append(total_steps)\n",
    "\n",
    "print(\"\\nended with {0} timesteps with\\n\\ntotal reward of {1}\".format(\n",
    "    each_episode_steps, each_episode_reward))\n",
    "\n",
    "print(\"\\n average reward: \", np.average(each_episode_reward))\n",
    "print(\"\\n average timesteps: \", np.average(each_episode_steps))"
   ]
  },
  {
   "cell_type": "code",
   "execution_count": 30,
   "metadata": {
    "ExecuteTime": {
     "end_time": "2020-02-22T12:09:48.402196Z",
     "start_time": "2020-02-22T12:09:48.367720Z"
    }
   },
   "outputs": [
    {
     "data": {
      "text/plain": [
       "' even our random agent is performing able to stick for average 20 timesteps.'"
      ]
     },
     "execution_count": 30,
     "metadata": {},
     "output_type": "execute_result"
    }
   ],
   "source": [
    "''' even our random agent is performing able to stick for average 20 timesteps.'''"
   ]
  },
  {
   "cell_type": "code",
   "execution_count": null,
   "metadata": {},
   "outputs": [],
   "source": []
  }
 ],
 "metadata": {
  "hide_input": false,
  "kernelspec": {
   "display_name": "Python 3",
   "language": "python",
   "name": "python3"
  },
  "language_info": {
   "codemirror_mode": {
    "name": "ipython",
    "version": 3
   },
   "file_extension": ".py",
   "mimetype": "text/x-python",
   "name": "python",
   "nbconvert_exporter": "python",
   "pygments_lexer": "ipython3",
   "version": "3.7.6"
  },
  "toc": {
   "base_numbering": 1,
   "nav_menu": {},
   "number_sections": true,
   "sideBar": true,
   "skip_h1_title": false,
   "title_cell": "Table of Contents",
   "title_sidebar": "Contents",
   "toc_cell": false,
   "toc_position": {},
   "toc_section_display": true,
   "toc_window_display": true
  }
 },
 "nbformat": 4,
 "nbformat_minor": 4
}
